{
 "cells": [
  {
   "cell_type": "markdown",
   "id": "25d7736c-ba17-4aff-b6bb-66eba20fbf4e",
   "metadata": {},
   "source": [
    "# Lab | Error Handling"
   ]
  },
  {
   "cell_type": "markdown",
   "id": "bc99b386-7508-47a0-bcdb-d969deaf6c8b",
   "metadata": {},
   "source": [
    "## Exercise: Error Handling for Managing Customer Orders\n",
    "\n",
    "The implementation of your code for managing customer orders assumes that the user will always enter a valid input. \n",
    "\n",
    "For example, we could modify the `initialize_inventory` function to include error handling.\n",
    "   - If the user enters an invalid quantity (e.g., a negative value or a non-numeric value), display an error message and ask them to re-enter the quantity for that product.\n",
    "   - Use a try-except block to handle the error and continue prompting the user until a valid quantity is entered.\n",
    "\n",
    "```python\n",
    "# Step 1: Define the function for initializing the inventory with error handling\n",
    "def initialize_inventory(products):\n",
    "    inventory = {}\n",
    "    for product in products:\n",
    "        valid_quantity = False\n",
    "        while not valid_quantity:\n",
    "            try:\n",
    "                quantity = int(input(f\"Enter the quantity of {product}s available: \"))\n",
    "                if quantity < 0:\n",
    "                    raise ValueError(\"Invalid quantity! Please enter a non-negative value.\")\n",
    "                valid_quantity = True\n",
    "            except ValueError as error:\n",
    "                print(f\"Error: {error}\")\n",
    "        inventory[product] = quantity\n",
    "    return inventory\n",
    "\n",
    "# Or, in another way:\n",
    "\n",
    "def initialize_inventory(products):\n",
    "    inventory = {}\n",
    "    for product in products:\n",
    "        valid_input = False\n",
    "        while not valid_input:\n",
    "            try:\n",
    "                quantity = int(input(f\"Enter the quantity of {product}s available: \"))\n",
    "                if quantity >= 0:\n",
    "                    inventory[product] = quantity\n",
    "                    valid_input = True\n",
    "                else:\n",
    "                    print(\"Quantity cannot be negative. Please enter a valid quantity.\")\n",
    "            except ValueError:\n",
    "                print(\"Invalid input. Please enter a valid quantity.\")\n",
    "    return inventory\n",
    "```\n",
    "\n",
    "Let's enhance your code by implementing error handling to handle invalid inputs.\n",
    "\n",
    "Follow the steps below to complete the exercise:\n",
    "\n",
    "2. Modify the `calculate_total_price` function to include error handling.\n",
    "   - If the user enters an invalid price (e.g., a negative value or a non-numeric value), display an error message and ask them to re-enter the price for that product.\n",
    "   - Use a try-except block to handle the error and continue prompting the user until a valid price is entered.\n",
    "\n",
    "3. Modify the `get_customer_orders` function to include error handling.\n",
    "   - If the user enters an invalid number of orders (e.g., a negative value or a non-numeric value), display an error message and ask them to re-enter the number of orders.\n",
    "   - If the user enters an invalid product name (e.g., a product name that is not in the inventory), or that doesn't have stock available, display an error message and ask them to re-enter the product name. *Hint: you will need to pass inventory as a parameter*\n",
    "   - Use a try-except block to handle the error and continue prompting the user until a valid product name is entered.\n",
    "\n",
    "4. Test your code by running the program and deliberately entering invalid quantities and product names. Make sure the error handling mechanism works as expected.\n"
   ]
  },
  {
   "cell_type": "code",
   "execution_count": null,
   "id": "5124f388-eb82-41a3-b819-d9e235d2f9f1",
   "metadata": {},
   "outputs": [],
   "source": [
    "def calculate_total_price(customer_orders):\n",
    "    prices = {product: float(input(f\"Enter the price for {product}: $\")) for product in customer_orders}\n",
    "    total_price = sum(prices.values())\n",
    "    return total_price\n"
   ]
  },
  {
   "cell_type": "code",
   "execution_count": 19,
   "id": "ea707b54-20a0-43eb-a78c-0a3d22d98abc",
   "metadata": {},
   "outputs": [
    {
     "name": "stdin",
     "output_type": "stream",
     "text": [
      "Enter the price for hat: $ 8\n",
      "Enter the price for keychain: $ -5\n"
     ]
    },
    {
     "name": "stdout",
     "output_type": "stream",
     "text": [
      "Invalid input: Invalid price! Please enter a non-negative value.. Please enter a valid price.\n"
     ]
    },
    {
     "name": "stdin",
     "output_type": "stream",
     "text": [
      "Enter the price for keychain: $ ghft\n"
     ]
    },
    {
     "name": "stdout",
     "output_type": "stream",
     "text": [
      "Invalid input: could not convert string to float: 'ghft'. Please enter a valid price.\n"
     ]
    },
    {
     "name": "stdin",
     "output_type": "stream",
     "text": [
      "Enter the price for keychain: $ 50\n"
     ]
    },
    {
     "name": "stdout",
     "output_type": "stream",
     "text": [
      "Total Price of the Order: $58.00\n"
     ]
    }
   ],
   "source": [
    "#2 \n",
    "def calculate_total_price(customer_orders):\n",
    "    prices = {}\n",
    "    \n",
    "    for product in customer_orders:\n",
    "        valid_input = False\n",
    "        while not valid_input:\n",
    "            try:\n",
    "                price = float(input(f\"Enter the price for {product}: $\"))\n",
    "                if price < 0:\n",
    "                    raise ValueError (\"Invalid price! Please enter a non-negative value.\")\n",
    "                prices[product] = price\n",
    "                valid_input = True\n",
    "            except ValueError as a:\n",
    "                print (f\"Invalid input: {a}. Please enter a valid price.\")\n",
    "                    \n",
    "    total_price = sum(prices.values())\n",
    "    return total_price\n",
    "\n",
    "\n",
    "customer_orders = {\"hat\", \"keychain\"}\n",
    "total_price = calculate_total_price(customer_orders)\n",
    "print(f\"Total Price of the Order: ${total_price:.2f}\")"
   ]
  },
  {
   "cell_type": "code",
   "execution_count": null,
   "id": "df55259c-a54f-4efe-a74c-9217a5c553c5",
   "metadata": {},
   "outputs": [],
   "source": [
    "def get_customer_orders():\n",
    "    num_orders = int(input(\"Enter the number of products you want to order: \").strip())\n",
    "    customer_orders = {input(f\"Enter product {i + 1}: \").strip().lower() for i in range(num_orders)}\n",
    "    return customer_orders"
   ]
  },
  {
   "cell_type": "code",
   "execution_count": 22,
   "id": "3d553133-bf13-4b48-8f53-11b82a21ecab",
   "metadata": {},
   "outputs": [
    {
     "name": "stdin",
     "output_type": "stream",
     "text": [
      "Enter the number of products you want to order:  -2\n"
     ]
    },
    {
     "name": "stdout",
     "output_type": "stream",
     "text": [
      "Invalid input: Number of orders must be a positive integer.. Please enter a valid number of orders.\n"
     ]
    },
    {
     "name": "stdin",
     "output_type": "stream",
     "text": [
      "Enter the number of products you want to order:  4\n",
      "Enter product 1:  fan\n"
     ]
    },
    {
     "name": "stdout",
     "output_type": "stream",
     "text": [
      "'fan' is not available in the inventory. Please enter a valid product name.\n"
     ]
    },
    {
     "name": "stdin",
     "output_type": "stream",
     "text": [
      "Enter product 1:  car\n"
     ]
    },
    {
     "name": "stdout",
     "output_type": "stream",
     "text": [
      "'car' is not available in the inventory. Please enter a valid product name.\n"
     ]
    },
    {
     "name": "stdin",
     "output_type": "stream",
     "text": [
      "Enter product 1:  hat\n",
      "Enter product 2:  key\n"
     ]
    },
    {
     "name": "stdout",
     "output_type": "stream",
     "text": [
      "'key' is not available in the inventory. Please enter a valid product name.\n"
     ]
    },
    {
     "name": "stdin",
     "output_type": "stream",
     "text": [
      "Enter product 2:  keychain\n",
      "Enter product 3:  mug\n",
      "Enter product 4:  book\n"
     ]
    },
    {
     "name": "stdout",
     "output_type": "stream",
     "text": [
      "Customer Order: {'hat', 'keychain', 'mug', 'book'}\n"
     ]
    }
   ],
   "source": [
    "#3\n",
    "def get_customer_orders(inventory):\n",
    "    valid_input = False\n",
    "    while not valid_input:\n",
    "        try:\n",
    "            num_orders = int(input(\"Enter the number of products you want to order: \"))\n",
    "            if num_orders <= 0:\n",
    "                raise ValueError(\"Number of orders must be a positive integer.\")\n",
    "            valid_input = True\n",
    "        except ValueError as x:\n",
    "            print(f\"Invalid input: {x}. Please enter a valid number of orders.\")\n",
    "    \n",
    "    customer_orders = set()\n",
    "    \n",
    "   \n",
    "    for i in range(num_orders):\n",
    "        valid_product = False\n",
    "        while not valid_product:\n",
    "            product_name = input(f\"Enter product {i + 1}: \")\n",
    "            if product_name in inventory:\n",
    "                if inventory[product_name] > 0:\n",
    "                    customer_orders.add(product_name)\n",
    "                    valid_product = True \n",
    "                else:\n",
    "                    print(f\"Sorry, '{product_name}' is out of stock.\")\n",
    "            else:\n",
    "                print(f\"'{product_name}' is not available in the inventory. Please enter a valid product name.\")\n",
    "    \n",
    "    return customer_orders\n",
    "\n",
    "inventory = { \"t-shirt\": 5, \"mug\": 4, \"hat\": 3, \"book\": 2, \"keychain\": 1}\n",
    "customer_orders = get_customer_orders(inventory)\n",
    "\n",
    "print(f\"Customer Order: {customer_orders}\")"
   ]
  },
  {
   "cell_type": "code",
   "execution_count": 24,
   "id": "36bb2d8d-52c0-4506-8773-27aac25270aa",
   "metadata": {},
   "outputs": [],
   "source": [
    "def initialize_inventory (products):\n",
    "    inventory = { product: int (input (f\"Enter the quantity for {product} available: \")) for product in products }\n",
    "    return inventory"
   ]
  },
  {
   "cell_type": "code",
   "execution_count": 27,
   "id": "c16b0939-9539-4789-971f-d8bfcaad104f",
   "metadata": {},
   "outputs": [],
   "source": [
    "def update_inventory (customer_orders, inventory):\n",
    "     inventory = [inventory.update({product: inventory[product] - 1}) if inventory[product] > 0 \n",
    "                 else print(f\"'{product}' is out of stock or not in the inventory!\") \n",
    "                 for product in customer_orders if product in inventory]\n",
    "     return"
   ]
  },
  {
   "cell_type": "code",
   "execution_count": 30,
   "id": "1f31d922-fe1d-49d5-85e1-45ca44d8e26e",
   "metadata": {},
   "outputs": [],
   "source": [
    "def calculate_order_statistics (customer_orders, products):\n",
    "    total_products_ordered = len(customer_orders)\n",
    "    total_products = len(products)\n",
    "    order_statistics = (total_products_ordered / total_products)* 100\n",
    "    return order_statistics\n",
    "    \n",
    "def print_order_statistics (order_statistics):\n",
    "    total_products_ordered = len(customer_orders)\n",
    "    total_products = len(products)\n",
    "    percentage_ordered = (total_products_ordered / total_products)* 100\n",
    "    order_statistics = total_products_ordered, percentage_ordered \n",
    "    print(f\"Total Products Ordered: {total_products_ordered}\")\n",
    "    print(f\"Percentage of Unique Products Ordered: {percentage_ordered:.0f}%\")"
   ]
  },
  {
   "cell_type": "code",
   "execution_count": 31,
   "id": "f9dc94b0-36fe-4d17-bf4a-d11cfe112bee",
   "metadata": {},
   "outputs": [
    {
     "name": "stdin",
     "output_type": "stream",
     "text": [
      "Enter the quantity for t-shirt available:  20\n",
      "Enter the quantity for mug available:  25\n",
      "Enter the quantity for hat available:  36\n",
      "Enter the quantity for book available:  78\n",
      "Enter the quantity for keychain available:  98\n",
      "Enter the number of products you want to order:  3\n",
      "Enter product 1:  hat\n",
      "Enter product 2:  mug\n",
      "Enter product 3:  fan\n"
     ]
    },
    {
     "name": "stdout",
     "output_type": "stream",
     "text": [
      "'fan' is not available in the inventory. Please enter a valid product name.\n"
     ]
    },
    {
     "name": "stdin",
     "output_type": "stream",
     "text": [
      "Enter product 3:  keychain\n"
     ]
    },
    {
     "name": "stdout",
     "output_type": "stream",
     "text": [
      "Total Products Ordered: 3\n",
      "Percentage of Unique Products Ordered: 60%\n"
     ]
    },
    {
     "name": "stdin",
     "output_type": "stream",
     "text": [
      "Enter the price for hat: $ 10\n",
      "Enter the price for keychain: $ 20\n",
      "Enter the price for mug: $ hdfg\n"
     ]
    },
    {
     "name": "stdout",
     "output_type": "stream",
     "text": [
      "Invalid input: could not convert string to float: 'hdfg'. Please enter a valid price.\n"
     ]
    },
    {
     "name": "stdin",
     "output_type": "stream",
     "text": [
      "Enter the price for mug: $ -2\n"
     ]
    },
    {
     "name": "stdout",
     "output_type": "stream",
     "text": [
      "Invalid input: Invalid price! Please enter a non-negative value.. Please enter a valid price.\n"
     ]
    },
    {
     "name": "stdin",
     "output_type": "stream",
     "text": [
      "Enter the price for mug: $ 30\n"
     ]
    },
    {
     "name": "stdout",
     "output_type": "stream",
     "text": [
      "Total Price of the Order: $60\n"
     ]
    }
   ],
   "source": [
    "#4\n",
    "products = [\"t-shirt\", \"mug\", \"hat\", \"book\", \"keychain\"]\n",
    "\n",
    "inventory = initialize_inventory(products)\n",
    "\n",
    "customer_orders = get_customer_orders(inventory)\n",
    "\n",
    "inventory = update_inventory(customer_orders, inventory)\n",
    "\n",
    "order_statistics = calculate_order_statistics(customer_orders, products)\n",
    "\n",
    "print_order_statistics(order_statistics)\n",
    "\n",
    "total_price = calculate_total_price(customer_orders)\n",
    "print(f\"Total Price of the Order: ${total_price:.0f}\")"
   ]
  },
  {
   "cell_type": "code",
   "execution_count": null,
   "id": "94455873-8af2-4b54-9486-f84d2aa97323",
   "metadata": {},
   "outputs": [],
   "source": []
  }
 ],
 "metadata": {
  "kernelspec": {
   "display_name": "Python 3 (ipykernel)",
   "language": "python",
   "name": "python3"
  },
  "language_info": {
   "codemirror_mode": {
    "name": "ipython",
    "version": 3
   },
   "file_extension": ".py",
   "mimetype": "text/x-python",
   "name": "python",
   "nbconvert_exporter": "python",
   "pygments_lexer": "ipython3",
   "version": "3.12.4"
  }
 },
 "nbformat": 4,
 "nbformat_minor": 5
}
